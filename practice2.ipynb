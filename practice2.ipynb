{
 "cells": [
  {
   "cell_type": "code",
   "execution_count": 2,
   "id": "c7c272c9",
   "metadata": {},
   "outputs": [],
   "source": [
    "import os\n",
    "from dotenv import load_dotenv\n",
    "from langchain_core.prompts import (\n",
    "    ChatPromptTemplate,\n",
    "    SystemMessagePromptTemplate,\n",
    "    HumanMessagePromptTemplate,\n",
    "    PromptTemplate,\n",
    "    FewShotChatMessagePromptTemplate\n",
    ")\n",
    "from langchain_core.output_parsers import StrOutputParser\n",
    "from langchain_openai import ChatOpenAI\n",
    "\n",
    "load_dotenv()\n",
    "OPENAI_API_KEY = os.getenv(\"OPENAI_API_KEY\")\n",
    "model = ChatOpenAI(\n",
    "    base_url=\"https://api.groq.com/openai/v1\",  # Groq API 엔드포인트\n",
    "    model=\"meta-llama/llama-4-scout-17b-16e-instruct\",\n",
    "    temperature=00\n",
    ")"
   ]
  },
  {
   "cell_type": "markdown",
   "id": "3ae040d0",
   "metadata": {},
   "source": [
    "## Practice 2-1"
   ]
  },
  {
   "cell_type": "code",
   "execution_count": 3,
   "id": "2096ed95",
   "metadata": {},
   "outputs": [
    {
     "name": "stdout",
     "output_type": "stream",
     "text": [
      "['피자', '햄버거', '샌드위치', '라면', '김치찌개']\n"
     ]
    }
   ],
   "source": [
    "from langchain_core.output_parsers import CommaSeparatedListOutputParser\n",
    "\n",
    "output_parser = CommaSeparatedListOutputParser()\n",
    "format_instructions = output_parser.get_format_instructions()\n",
    "\n",
    "prompt = PromptTemplate(\n",
    "    template=\"List five {subject}. \\n{format_instructions}\",\n",
    "    input_variables=[\"subject\"],\n",
    "    partial_variables={\"format_instructions\": format_instructions},\n",
    ")\n",
    "\n",
    "chain = prompt | model | output_parser\n",
    "\n",
    "result = chain.invoke({\"subject\": \"음식\"})\n",
    "\n",
    "print(result)"
   ]
  },
  {
   "cell_type": "markdown",
   "id": "7b0d61bf",
   "metadata": {},
   "source": [
    "## Practice 2-2"
   ]
  },
  {
   "cell_type": "code",
   "execution_count": 7,
   "id": "8c94e4cc",
   "metadata": {},
   "outputs": [
    {
     "name": "stdout",
     "output_type": "stream",
     "text": [
      "\n",
      "1. 텍스트: 이 영화 정말 재미없어요. 시간 낭비였습니다.\n",
      "   감정: 부정 \n",
      "\n",
      "2. 텍스트: 배우들의 연기가 훌륭하고 스토리도 감동적이었어요!\n",
      "   감정: 긍정 \n",
      "\n",
      "3. 텍스트: 그냥 무난한 영화였습니다. 나쁘지도 좋지도 않아요.\n",
      "   감정: 보통 \n"
     ]
    }
   ],
   "source": [
    "from langchain.output_parsers import EnumOutputParser, OutputFixingParser\n",
    "from langchain.schema import OutputParserException\n",
    "\n",
    "from enum import Enum\n",
    "from pprint import pprint\n",
    "\n",
    "class Sentiment(str, Enum):\n",
    "    POSITIVE = \"긍정\"\n",
    "    NEGATIVE = \"부정\"\n",
    "    NEUTRAL = \"보통\"\n",
    "    \n",
    "parser = EnumOutputParser(enum=Sentiment)\n",
    "format_instructions = parser.get_format_instructions()\n",
    "\n",
    "template = \"\"\"\n",
    "당신은 텍스트 감정 분석 전문가입니다.\n",
    "다음 텍스트의 감정을 분석하고, 반드시 아래 세 가지 중 하나의 단어로만 답변하세요.\n",
    "\n",
    "텍스트: \"{text}\"\n",
    "\n",
    "{format_instructions}\n",
    "\n",
    "중요 규칙:\n",
    "1. 반드시 \"긍정\", \"부정\", \"중립\" 중 하나의 단어만 출력하세요\n",
    "2. 다른 설명이나 부가 설명을 추가하지 마세요\n",
    "3. 이모지나 특수문자도 포함하지 마세요\n",
    "4. 오직 하나의 단어만 출력하세요\n",
    "\n",
    "답변:\"\"\"\n",
    "\n",
    "prompt = ChatPromptTemplate.from_template(template)\n",
    "prompt = prompt.partial(format_instructions=format_instructions)\n",
    "\n",
    "fixing_parser = OutputFixingParser.from_llm(parser=parser, llm=model)\n",
    "\n",
    "texts = [\n",
    "    \"이 영화 정말 재미없어요. 시간 낭비였습니다.\",\n",
    "    \"배우들의 연기가 훌륭하고 스토리도 감동적이었어요!\",\n",
    "    \"그냥 무난한 영화였습니다. 나쁘지도 좋지도 않아요.\"\n",
    "]\n",
    "\n",
    "def safe_sentiment_analysis(text, use_fixing_parser=True):\n",
    "    \"\"\"안전한 감정 분석 함수 - 에러 처리 포함\"\"\"\n",
    "    try:\n",
    "        # 기본 체인 생성\n",
    "        chain = prompt | model | (fixing_parser if use_fixing_parser else parser)\n",
    "        \n",
    "        # 분석 실행\n",
    "        result = chain.invoke({\"text\": text})\n",
    "        return result, None\n",
    "        \n",
    "    except OutputParserException as e:\n",
    "        return None, f\"파싱 오류: {str(e)[:100]}...\"\n",
    "    except Exception as e:\n",
    "        return None, f\"일반 오류: {str(e)[:100]}...\"\n",
    "    \n",
    "def run_sentiment_analysis():\n",
    "    \n",
    "    success_count = 0\n",
    "    total_count = len(texts)\n",
    "    \n",
    "    for i, text in enumerate(texts, 1):\n",
    "        print(f\"\\n{i}. 텍스트: {text}\")\n",
    "        \n",
    "        # OutputFixingParser 사용\n",
    "        result, error = safe_sentiment_analysis(text, use_fixing_parser=True)\n",
    "        \n",
    "        if result:\n",
    "            print(f\"   감정: {result.value} \")\n",
    "            success_count += 1\n",
    "        else:\n",
    "            print(f\"   오류: {error} \")\n",
    "            \n",
    "            # 기본 파서로 재시도\n",
    "            print(\"   기본 파서로 재시도...\")\n",
    "            result2, error2 = safe_sentiment_analysis(text, use_fixing_parser=False)\n",
    "            \n",
    "            if result2:\n",
    "                print(f\"   감정: {result2.value} (기본 파서 성공)\")\n",
    "                success_count += 1\n",
    "            else:\n",
    "                print(f\"   재시도 실패: {error2} \")\n",
    "    \n",
    "try:\n",
    "    run_sentiment_analysis()\n",
    "except Exception as e:\n",
    "    print(\"API 키가 설정되지 않았거나 네트워크 오류:\")\n",
    "    print(\"실제 실행을 위해서는 OpenAI API 키를 설정하세요.\")\n",
    "    print(f\"오류 상세: {e}\")"
   ]
  },
  {
   "cell_type": "markdown",
   "id": "7ddf2cba",
   "metadata": {},
   "source": [
    "## Practice 2-3"
   ]
  },
  {
   "cell_type": "code",
   "execution_count": 9,
   "id": "ddb77b13",
   "metadata": {},
   "outputs": [
    {
     "name": "stdout",
     "output_type": "stream",
     "text": [
      "이름: 김민수\n",
      "나이: 22\n",
      "전공: 컴퓨터공학\n",
      "취미: 게임하기, 영화보기, 코딩\n",
      "목표: 훌륭한 개발자가 되는 것\n"
     ]
    }
   ],
   "source": [
    "from langchain.output_parsers import PydanticOutputParser\n",
    "\n",
    "from pydantic import BaseModel, Field\n",
    "from typing import List\n",
    "\n",
    "class StudentInfo(BaseModel):\n",
    "    name : str = Field(description=\"학생의 이름\")\n",
    "    age: int = Field(description=\"학생의 나이\")\n",
    "    major: str = Field(description=\"학생의 전공\")\n",
    "    hobbies: List[str] = Field(description=\"학생의 취미\")\n",
    "    goal: str = Field(description=\"학생의 목표\")\n",
    "    \n",
    "parser = PydanticOutputParser(pydantic_object=StudentInfo)\n",
    "template = \"\"\"\n",
    "학생의 자기소개를 보고 학생의 정보를 추출해주세요.\n",
    "요청: {query}\n",
    "\n",
    "{format_instructions}\n",
    "\"\"\"\n",
    "\n",
    "prompt = ChatPromptTemplate.from_template(template)\n",
    "prompt = prompt.partial(format_instructions=parser.get_format_instructions())\n",
    "\n",
    "query = \"안녕하세요! 저는 김민수이고 22살입니다. 컴퓨터공학을 전공하고 있어요. 취미로는 게임하기, 영화보기, 코딩을 좋아합니다. 앞으로 훌륭한 개발자가 되는 것이 목표입니다.\"\n",
    "\n",
    "chain = prompt | model | parser\n",
    "result = chain.invoke({\"query\": query})\n",
    "\n",
    "print(f\"이름: {result.name}\")\n",
    "print(f\"나이: {result.age}\")\n",
    "print(f\"전공: {result.major}\")\n",
    "print(f\"취미: {', '.join(result.hobbies)}\")\n",
    "print(f\"목표: {result.goal}\")"
   ]
  },
  {
   "cell_type": "markdown",
   "id": "098d2f05",
   "metadata": {},
   "source": [
    "## Practice 2-4"
   ]
  },
  {
   "cell_type": "code",
   "execution_count": 10,
   "id": "8288fc65",
   "metadata": {},
   "outputs": [
    {
     "name": "stdout",
     "output_type": "stream",
     "text": [
      "{'activities': ['해운대 바다구경', '자갈치시장에서 회 먹기', '감천문화마을 구경'],\n",
      " 'budget': '30만원',\n",
      " 'destination': '부산',\n",
      " 'duration': '2박3일',\n",
      " 'rating': '4'}\n"
     ]
    }
   ],
   "source": [
    "from langchain.output_parsers import StructuredOutputParser, ResponseSchema\n",
    "from pprint import pprint\n",
    "\n",
    "response_scemas = [\n",
    "    ResponseSchema(name=\"destination\", description=\"여행지/목적지 (도시명이나 지역명)\"),\n",
    "    ResponseSchema(name=\"duration\", description=\"여행 기간 (예: 2박 3일, 1주일, 3일 등)\"),\n",
    "    ResponseSchema(name=\"budget\", description=\"여행 예산이나 비용 (예: 30만원, 50만원 등)\"),\n",
    "    ResponseSchema(name=\"rating\", description=\"여행 만족도나 추천도 (1-5점 사이의 숫자만)\"),\n",
    "    ResponseSchema(name=\"activities\", description=\"주요 활동들의 리스트 (배열 형태로 각 활동을 나열)\")\n",
    "]\n",
    "\n",
    "parser = StructuredOutputParser.from_response_schemas(response_scemas)\n",
    "format_instructions = parser.get_format_instructions()\n",
    "\n",
    "prompt = PromptTemplate(\n",
    "    template=\"\"\"\n",
    "    당신은 여행 전문가입니다. 여행 후기나 계획을 분석하고 여행지, 기간, 예산 추천도(1~5점), 주요 활동리스트를 구조화된 형태로 추출하세요.\n",
    "    \n",
    "    {format_instructions}\n",
    "    여행 후기: \"{review}\"\n",
    "    \"\"\",\n",
    "    input_variables=[\"review\"],\n",
    "    partial_variables={\"format_instructions\": format_instructions}\n",
    ")\n",
    "\n",
    "chain = prompt | model | parser\n",
    "result = chain.invoke({\n",
    "    \"review\": \"지난 주에 부산으로 2박 3일 여행을 다녀왔어요. 총 30만원 정도 썼는데 해운대에서 바다구경하고, 자갈치시장에서 회 먹고, 감천문화마을도 구경했어요. 정말 만족스러운 여행이었습니다. 5점 만점에 4점 정도 줄 수 있을 것 같아요.\"\n",
    "})\n",
    "\n",
    "pprint(result)"
   ]
  }
 ],
 "metadata": {
  "kernelspec": {
   "display_name": "langchain-prac2-OVDpAzkA-py3.12",
   "language": "python",
   "name": "python3"
  },
  "language_info": {
   "codemirror_mode": {
    "name": "ipython",
    "version": 3
   },
   "file_extension": ".py",
   "mimetype": "text/x-python",
   "name": "python",
   "nbconvert_exporter": "python",
   "pygments_lexer": "ipython3",
   "version": "3.12.9"
  }
 },
 "nbformat": 4,
 "nbformat_minor": 5
}
